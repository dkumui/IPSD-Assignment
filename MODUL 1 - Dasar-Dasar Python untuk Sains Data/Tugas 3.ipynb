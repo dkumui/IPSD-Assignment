{
  "nbformat": 4,
  "nbformat_minor": 0,
  "metadata": {
    "colab": {
      "provenance": [],
      "authorship_tag": "ABX9TyMqHOK46ODazhlK6ngAOA4G",
      "include_colab_link": true
    },
    "kernelspec": {
      "name": "python3",
      "display_name": "Python 3"
    },
    "language_info": {
      "name": "python"
    }
  },
  "cells": [
    {
      "cell_type": "markdown",
      "metadata": {
        "id": "view-in-github",
        "colab_type": "text"
      },
      "source": [
        "<a href=\"https://colab.research.google.com/github/dkumui/IPSD-Assignment/blob/main/MODUL%201%20-%20Dasar-Dasar%20Python%20untuk%20Sains%20Data/Tugas_3.ipynb\" target=\"_parent\"><img src=\"https://colab.research.google.com/assets/colab-badge.svg\" alt=\"Open In Colab\"/></a>"
      ]
    },
    {
      "cell_type": "code",
      "execution_count": 1,
      "metadata": {
        "colab": {
          "base_uri": "https://localhost:8080/"
        },
        "id": "LGsKx6gEJGCv",
        "outputId": "33df4ec7-be15-4e21-90b4-6bd6d1986c5f"
      },
      "outputs": [
        {
          "output_type": "stream",
          "name": "stdout",
          "text": [
            "Masukkan PIN Anda: 1243\n",
            "PIN Salah. Anda memiliki 2 percobaan lagi.\n",
            "Masukkan PIN Anda: 1234\n",
            "PIN Benar.\n",
            "Saldo Anda: Rp1000000\n",
            "Masukkan jumlah penarikan: abc\n",
            "Input tidak valid, masukkan angka.\n",
            "Masukkan jumlah penarikan: 500000\n",
            "Penarikan berhasil. Saldo akhir Anda: Rp500000\n"
          ]
        }
      ],
      "source": [
        "saldo_awal = 1000000\n",
        "pin_terdaftar = \"1234\"\n",
        "batas_percobaan = 3\n",
        "\n",
        "\n",
        "def atm_simulation():\n",
        "    percobaan = 0\n",
        "    while percobaan < batas_percobaan:\n",
        "        pin = input(\"Masukkan PIN Anda: \")\n",
        "        if pin == pin_terdaftar:\n",
        "            print(\"PIN Benar.\")\n",
        "            break\n",
        "        else:\n",
        "            percobaan += 1\n",
        "            print(\n",
        "                f\"PIN Salah. Anda memiliki {batas_percobaan - percobaan} percobaan lagi.\")\n",
        "\n",
        "        if percobaan == batas_percobaan:\n",
        "            print(\"Anda telah melebihi batas percobaan PIN. Transaksi diblokir.\")\n",
        "            return\n",
        "\n",
        "    global saldo_awal\n",
        "    print(f\"Saldo Anda: Rp{saldo_awal}\")\n",
        "    while True:\n",
        "        try:\n",
        "            jumlah_tarik = int(input(\"Masukkan jumlah penarikan: \"))\n",
        "            break\n",
        "        except ValueError:\n",
        "            print(\"Input tidak valid, masukkan angka.\")\n",
        "\n",
        "    if jumlah_tarik > saldo_awal:\n",
        "        print(\"Saldo tidak mencukupi untuk melakukan penarikan.\")\n",
        "    else:\n",
        "        saldo_awal -= jumlah_tarik\n",
        "        print(f\"Penarikan berhasil. Saldo akhir Anda: Rp{saldo_awal}\")\n",
        "\n",
        "\n",
        "atm_simulation()\n"
      ]
    }
  ]
}
