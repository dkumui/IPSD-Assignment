{
  "nbformat": 4,
  "nbformat_minor": 0,
  "metadata": {
    "colab": {
      "provenance": [],
      "authorship_tag": "ABX9TyOpw+Uc0+V1KBwCE/vz3QSs",
      "include_colab_link": true
    },
    "kernelspec": {
      "name": "python3",
      "display_name": "Python 3"
    },
    "language_info": {
      "name": "python"
    }
  },
  "cells": [
    {
      "cell_type": "markdown",
      "metadata": {
        "id": "view-in-github",
        "colab_type": "text"
      },
      "source": [
        "<a href=\"https://colab.research.google.com/github/dkumui/IPSD-Assignment/blob/main/MODUL%201%20-%20Dasar-Dasar%20Python%20untuk%20Sains%20Data/Tugas%208.ipynb\" target=\"_parent\"><img src=\"https://colab.research.google.com/assets/colab-badge.svg\" alt=\"Open In Colab\"/></a>"
      ]
    },
    {
      "cell_type": "markdown",
      "source": [
        "### Soal 8: Kombinasi String dan Manipulasi List\n",
        "**Soal**: Buat sebuah program yang menerima string dari pengguna dan mengonversi string tersebut menjadi sebuah list berisi kata-kata terbalik. Misalnya:\n",
        "```\n",
        "Input: \"Saya suka Python\"\n",
        "Output: [\"ayaS\", \"akus\", \"nohtyP\"]\n",
        "```"
      ],
      "metadata": {
        "id": "D1gbbLzhj15Z"
      }
    },
    {
      "cell_type": "code",
      "execution_count": null,
      "metadata": {
        "colab": {
          "base_uri": "https://localhost:8080/"
        },
        "id": "UdjmZvozPVl-",
        "outputId": "0dc2c74a-08ca-4127-d1a5-4d88610b070e"
      },
      "outputs": [
        {
          "output_type": "stream",
          "name": "stdout",
          "text": [
            "Masukkan sebuah kalimat: Saya suka Donnat\n",
            "['ayaS', 'akus', 'tannoD']\n"
          ]
        }
      ],
      "source": [
        "def kalimat_terbalik(n):\n",
        "    kata1 = n.split()\n",
        "    list_kalimat_terbalik = [kata2[::-1] for kata2 in kata1]\n",
        "\n",
        "    return list_kalimat_terbalik\n",
        "\n",
        "\n",
        "kalimat = input(\"Masukkan sebuah kalimat: \")\n",
        "output = kalimat_terbalik(kalimat)\n",
        "print(output)\n"
      ]
    }
  ]
}