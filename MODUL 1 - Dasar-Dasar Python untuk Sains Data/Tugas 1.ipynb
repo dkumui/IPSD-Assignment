{
  "nbformat": 4,
  "nbformat_minor": 0,
  "metadata": {
    "colab": {
      "provenance": [],
      "authorship_tag": "ABX9TyMTWbnmFmNLNenst2NE3/XP",
      "include_colab_link": true
    },
    "kernelspec": {
      "name": "python3",
      "display_name": "Python 3"
    },
    "language_info": {
      "name": "python"
    }
  },
  "cells": [
    {
      "cell_type": "markdown",
      "metadata": {
        "id": "view-in-github",
        "colab_type": "text"
      },
      "source": [
        "<a href=\"https://colab.research.google.com/github/dkumui/IPSD-Assignment/blob/main/MODUL%201%20-%20Dasar-Dasar%20Python%20untuk%20Sains%20Data/Tugas%201.ipynb\" target=\"_parent\"><img src=\"https://colab.research.google.com/assets/colab-badge.svg\" alt=\"Open In Colab\"/></a>"
      ]
    },
    {
      "cell_type": "markdown",
      "source": [
        "### Soal 1: Memecahkan Masalah Unik dengan Loop dan If-Else\n",
        "\n",
        "**Soal:** Buatlah program yang dapat menghasilkan pola berbentuk angka seperti di bawah ini, dengan syarat angka yang ditampilkan adalah hasil dari penjumlahan bilangan prima sebelumnya:\n",
        "```\n",
        "1\n",
        "2 3\n",
        "5 7 11\n",
        "13 17 19 23\n",
        "...\n",
        "```\n",
        "Jumlah angka pada setiap baris bertambah 1, dan bilangan yang ditampilkan adalah bilangan prima."
      ],
      "metadata": {
        "id": "-saOq5c1fpwh"
      }
    },
    {
      "cell_type": "code",
      "execution_count": null,
      "metadata": {
        "colab": {
          "base_uri": "https://localhost:8080/"
        },
        "id": "e9SjZXGGs_a7",
        "outputId": "366830f5-7fee-40ca-e348-cfc5b6e8054d"
      },
      "outputs": [
        {
          "output_type": "stream",
          "name": "stdout",
          "text": [
            "2\n",
            "3 5\n",
            "7 11 13\n",
            "17 19 23 29\n",
            "31 37 41 43 47\n"
          ]
        }
      ],
      "source": [
        "def is_prime(n):\n",
        "    if n <= 1:\n",
        "        return False\n",
        "    for i in range(2, int(n**0.5) + 1):\n",
        "        if n % i == 0:\n",
        "            return False\n",
        "    return True\n",
        "\n",
        "\n",
        "def masuk_list(n):\n",
        "    prima = []\n",
        "    num = 2\n",
        "\n",
        "    for i in range(1, n+1):\n",
        "        while len(prima) < sum(range(1, i+1)):\n",
        "            if is_prime(num):\n",
        "                prima.append(num)\n",
        "            num += 1\n",
        "        print(*prima[-i:])\n",
        "\n",
        "\n",
        "masuk_list(5)\n"
      ]
    }
  ]
}