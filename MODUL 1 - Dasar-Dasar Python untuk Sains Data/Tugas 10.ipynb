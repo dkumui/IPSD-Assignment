{
  "nbformat": 4,
  "nbformat_minor": 0,
  "metadata": {
    "colab": {
      "provenance": [],
      "authorship_tag": "ABX9TyNlib/wTNSOs2tNbpOLn0yi",
      "include_colab_link": true
    },
    "kernelspec": {
      "name": "python3",
      "display_name": "Python 3"
    },
    "language_info": {
      "name": "python"
    }
  },
  "cells": [
    {
      "cell_type": "markdown",
      "metadata": {
        "id": "view-in-github",
        "colab_type": "text"
      },
      "source": [
        "<a href=\"https://colab.research.google.com/github/dkumui/IPSD-Assignment/blob/main/MODUL%201%20-%20Dasar-Dasar%20Python%20untuk%20Sains%20Data/Tugas%2010.ipynb\" target=\"_parent\"><img src=\"https://colab.research.google.com/assets/colab-badge.svg\" alt=\"Open In Colab\"/></a>"
      ]
    },
    {
      "cell_type": "code",
      "execution_count": 5,
      "metadata": {
        "colab": {
          "base_uri": "https://localhost:8080/"
        },
        "id": "m5AIFH5XREVd",
        "outputId": "f9abcb3d-c2f7-4f93-8df8-ffa514558717"
      },
      "outputs": [
        {
          "output_type": "stream",
          "name": "stdout",
          "text": [
            "Daftar angka: [2, 3, 4, 10, 40, 50, 61, 75, 80, 90, 100]\n",
            "Masukkan bilangan genap yang ingin dicari: 75\n",
            "Input tidak valid, masukkan bilangan genap.\n",
            "Masukkan bilangan genap yang ingin dicari: 1\n",
            "Input tidak valid, masukkan bilangan genap.\n",
            "Masukkan bilangan genap yang ingin dicari: 6\n",
            "Angka tidak ditemukan, silakan coba lagi.\n",
            "Masukkan bilangan genap yang ingin dicari: 90\n",
            "Angka 90 ditemukan pada indeks ke-9\n"
          ]
        }
      ],
      "source": [
        "def binary_search(arr, x):\n",
        "    low = 0\n",
        "    high = len(arr) - 1\n",
        "    mid = 0\n",
        "\n",
        "    while low <= high:\n",
        "\n",
        "        mid = (high + low) // 2\n",
        "\n",
        "        if arr[mid] < x:\n",
        "            low = mid + 1\n",
        "\n",
        "        elif arr[mid] > x:\n",
        "            high = mid - 1\n",
        "\n",
        "        else:\n",
        "            return mid\n",
        "\n",
        "    return -1\n",
        "\n",
        "\n",
        "def input_genap():\n",
        "    while True:\n",
        "        try:\n",
        "            n = int(input(\"Masukkan bilangan genap yang ingin dicari: \"))\n",
        "            if n % 2 == 0:\n",
        "                return n\n",
        "            else:\n",
        "                print(\"Input tidak valid, masukkan bilangan genap.\")\n",
        "        except ValueError:\n",
        "            print(\"Input tidak valid, masukkan angka yang ada pada list.\")\n",
        "\n",
        "\n",
        "arr = [2, 3, 4, 10, 40, 50, 61, 75, 80, 90, 100]\n",
        "print(\"Daftar angka:\", arr)\n",
        "\n",
        "while True:\n",
        "    x = input_genap()\n",
        "    result = binary_search(arr, x)\n",
        "\n",
        "    if result != -1:\n",
        "        print(f\"Angka {x} ditemukan pada indeks ke-{result}\")\n",
        "        break\n",
        "    else:\n",
        "        print(\"Angka tidak ditemukan, silakan coba lagi.\")\n"
      ]
    }
  ]
}