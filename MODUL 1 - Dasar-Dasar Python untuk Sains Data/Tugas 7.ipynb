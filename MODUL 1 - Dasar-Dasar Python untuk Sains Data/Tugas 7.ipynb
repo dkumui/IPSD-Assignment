{
  "nbformat": 4,
  "nbformat_minor": 0,
  "metadata": {
    "colab": {
      "provenance": [],
      "authorship_tag": "ABX9TyNayEzinbN8R0zoRUi/MpuO",
      "include_colab_link": true
    },
    "kernelspec": {
      "name": "python3",
      "display_name": "Python 3"
    },
    "language_info": {
      "name": "python"
    }
  },
  "cells": [
    {
      "cell_type": "markdown",
      "metadata": {
        "id": "view-in-github",
        "colab_type": "text"
      },
      "source": [
        "<a href=\"https://colab.research.google.com/github/dkumui/IPSD-Assignment/blob/main/MODUL%201%20-%20Dasar-Dasar%20Python%20untuk%20Sains%20Data/Tugas%207.ipynb\" target=\"_parent\"><img src=\"https://colab.research.google.com/assets/colab-badge.svg\" alt=\"Open In Colab\"/></a>"
      ]
    },
    {
      "cell_type": "markdown",
      "source": [
        "### Soal 7: Pemrograman dengan Algoritma Greedy\n",
        "**Soal**: Buatlah program untuk memecahkan masalah \"minimum coin change\". Diberikan jumlah uang dan daftar nilai koin yang tersedia (misalnya, 1, 5, 10, 25), tentukan kombinasi minimum koin yang diperlukan untuk mencapai jumlah uang tersebut. Namun, program Anda harus bisa menangani koin-koin yang nilai dan jumlahnya ditentukan pengguna."
      ],
      "metadata": {
        "id": "bhjz3iNSjH1L"
      }
    },
    {
      "cell_type": "code",
      "execution_count": null,
      "metadata": {
        "colab": {
          "base_uri": "https://localhost:8080/"
        },
        "id": "dA1fiaVEOrfh",
        "outputId": "75b454d0-6689-4a63-c488-ea981e2448e0"
      },
      "outputs": [
        {
          "output_type": "stream",
          "name": "stdout",
          "text": [
            "Koin yang tersedia: 1, 5, 10, 25\n",
            "Masukkan jumlah uang: 31\n",
            "Koin yang digunakan:\n",
            "Koin 25: 1 buah\n",
            "Koin 5: 1 buah\n",
            "Koin 1: 1 buah\n",
            "Total koin yang digunakan: 3\n"
          ]
        }
      ],
      "source": [
        "def min_coin_change(amount):\n",
        "    coins = [1, 5, 10, 25]\n",
        "    coins.sort(reverse=True)\n",
        "    result = {}\n",
        "\n",
        "    for coin in coins:\n",
        "        if amount >= coin:\n",
        "            num_coins = amount // coin\n",
        "            amount -= num_coins * coin\n",
        "            result[coin] = num_coins\n",
        "\n",
        "    return result\n",
        "\n",
        "\n",
        "print(\"Koin yang tersedia: 1, 5, 10, 25\")\n",
        "amount = int(input(\"Masukkan jumlah uang: \"))\n",
        "result = min_coin_change(amount)\n",
        "\n",
        "print(\"Koin yang digunakan:\")\n",
        "\n",
        "for coin, count in result.items():\n",
        "    print(f\"Koin {coin}: {count} buah\")\n",
        "\n",
        "print(\"Total koin yang digunakan:\", sum(result.values()))\n"
      ]
    }
  ]
}