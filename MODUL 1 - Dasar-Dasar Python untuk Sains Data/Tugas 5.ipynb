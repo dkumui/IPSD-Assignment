{
  "nbformat": 4,
  "nbformat_minor": 0,
  "metadata": {
    "colab": {
      "provenance": [],
      "authorship_tag": "ABX9TyOAvtQW9v8L6HpbJmJi3GxP",
      "include_colab_link": true
    },
    "kernelspec": {
      "name": "python3",
      "display_name": "Python 3"
    },
    "language_info": {
      "name": "python"
    }
  },
  "cells": [
    {
      "cell_type": "markdown",
      "metadata": {
        "id": "view-in-github",
        "colab_type": "text"
      },
      "source": [
        "<a href=\"https://colab.research.google.com/github/dkumui/IPSD-Assignment/blob/main/MODUL%201%20-%20Dasar-Dasar%20Python%20untuk%20Sains%20Data/Tugas%205.ipynb\" target=\"_parent\"><img src=\"https://colab.research.google.com/assets/colab-badge.svg\" alt=\"Open In Colab\"/></a>"
      ]
    },
    {
      "cell_type": "markdown",
      "source": [
        "### Soal 5: Kombinasi Logika dan Kreativitas\n",
        "**Soal**: Buatlah permainan sederhana menggunakan Python, di mana komputer akan memilih sebuah angka secara acak antara 1 hingga 100, dan pengguna harus menebak angka tersebut. Setiap tebakan yang salah akan memberikan petunjuk apakah angka yang ditebak lebih besar atau lebih kecil dari angka sebenarnya. Batasi jumlah percobaan menjadi 5 kali. Setelah permainan selesai, tampilkan apakah pemain menang atau kalah."
      ],
      "metadata": {
        "id": "7MDq5eUFiiw7"
      }
    },
    {
      "cell_type": "code",
      "execution_count": null,
      "metadata": {
        "colab": {
          "base_uri": "https://localhost:8080/"
        },
        "id": "vXtcUgceNM5T",
        "outputId": "31344b5a-735a-4e63-cfb6-ce0446043e27"
      },
      "outputs": [
        {
          "output_type": "stream",
          "name": "stdout",
          "text": [
            "============================================================\n",
            "Angka sudah ditentukan, silahkan tebak dengan kesempatan 5x!\n",
            "============================================================\n",
            "\n",
            "[Percobaan 1] Masukkan angka: 50\n",
            "Tebakanmu terlalu besar\n",
            "\n",
            "[Percobaan 2] Masukkan angka: 30\n",
            "Tebakanmu terlalu kecil\n",
            "\n",
            "[Percobaan 3] Masukkan angka: 40\n",
            "Tebakanmu terlalu besar\n",
            "\n",
            "[Percobaan 4] Masukkan angka: 35\n",
            "Buseettt bisa bener gitu tebaknya!\n"
          ]
        }
      ],
      "source": [
        "import random\n",
        "\n",
        "angka_rahasia = random.randint(1, 100)\n",
        "\n",
        "print('=' * 60)\n",
        "print('Angka sudah ditentukan, silahkan tebak dengan kesempatan 5x!')\n",
        "print('=' * 60)\n",
        "\n",
        "batas_percobaan = 5\n",
        "for percobaan in range(batas_percobaan):\n",
        "    jawaban = int(input(f'\\n[Percobaan {percobaan + 1}] Masukkan angka: '))\n",
        "\n",
        "    if jawaban == angka_rahasia:\n",
        "        print('Buseettt bisa bener gitu tebaknya!')\n",
        "        break\n",
        "    else:\n",
        "        if jawaban < angka_rahasia:\n",
        "            print('Tebakanmu terlalu kecil')\n",
        "        else:\n",
        "            print('Tebakanmu terlalu besar')\n",
        "else:\n",
        "    print(\n",
        "        f'\\nYahhhh, kamu sudah salah menebak sebanyak {batas_percobaan}x!')\n"
      ]
    }
  ]
}