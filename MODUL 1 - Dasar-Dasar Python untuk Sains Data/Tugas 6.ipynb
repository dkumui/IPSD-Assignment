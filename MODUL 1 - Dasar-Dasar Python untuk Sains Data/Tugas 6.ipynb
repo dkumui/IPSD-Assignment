{
  "nbformat": 4,
  "nbformat_minor": 0,
  "metadata": {
    "colab": {
      "provenance": [],
      "authorship_tag": "ABX9TyNSKhCsp78rBbk1TPU1LPgU",
      "include_colab_link": true
    },
    "kernelspec": {
      "name": "python3",
      "display_name": "Python 3"
    },
    "language_info": {
      "name": "python"
    }
  },
  "cells": [
    {
      "cell_type": "markdown",
      "metadata": {
        "id": "view-in-github",
        "colab_type": "text"
      },
      "source": [
        "<a href=\"https://colab.research.google.com/github/dkumui/IPSD-Assignment/blob/main/MODUL%201%20-%20Dasar-Dasar%20Python%20untuk%20Sains%20Data/Tugas%206.ipynb\" target=\"_parent\"><img src=\"https://colab.research.google.com/assets/colab-badge.svg\" alt=\"Open In Colab\"/></a>"
      ]
    },
    {
      "cell_type": "code",
      "execution_count": 2,
      "metadata": {
        "colab": {
          "base_uri": "https://localhost:8080/"
        },
        "id": "ha5H-wc2OH1Y",
        "outputId": "3acf7f11-af50-4946-b0f9-35a015e3dae9"
      },
      "outputs": [
        {
          "output_type": "stream",
          "name": "stdout",
          "text": [
            "Masukkan bilangan genap: 5\n",
            "Input tidak valid, masukkan bilangan genap.\n",
            "Masukkan bilangan genap: 6\n",
            "[1, 2, 6, 24, 120, 720]\n"
          ]
        }
      ],
      "source": [
        "def factorial(n):\n",
        "    if n == 0 or n == 1:\n",
        "        return 1\n",
        "    return n * factorial(n - 1)\n",
        "\n",
        "\n",
        "def factorial_sequence(n):\n",
        "    if n < 1:\n",
        "        return []\n",
        "\n",
        "    sequence = factorial_sequence(n - 1)\n",
        "    sequence.append(factorial(n))\n",
        "    return sequence\n",
        "\n",
        "\n",
        "def input_genap():\n",
        "    while True:\n",
        "        try:\n",
        "            n = int(input(\"Masukkan bilangan genap: \"))\n",
        "            if n % 2 == 0:\n",
        "                return n\n",
        "            else:\n",
        "                print(\"Input tidak valid, masukkan bilangan genap.\")\n",
        "        except ValueError:\n",
        "            print(\"Input tidak valid, masukkan angka bulat.\")\n",
        "\n",
        "\n",
        "n = input_genap()\n",
        "print(factorial_sequence(n))\n"
      ]
    }
  ]
}