{
  "nbformat": 4,
  "nbformat_minor": 0,
  "metadata": {
    "colab": {
      "provenance": [],
      "authorship_tag": "ABX9TyN2B8qTFwd7+JkAz3Yl1zYD",
      "include_colab_link": true
    },
    "kernelspec": {
      "name": "python3",
      "display_name": "Python 3"
    },
    "language_info": {
      "name": "python"
    }
  },
  "cells": [
    {
      "cell_type": "markdown",
      "metadata": {
        "id": "view-in-github",
        "colab_type": "text"
      },
      "source": [
        "<a href=\"https://colab.research.google.com/github/dkumui/IPSD-Assignment/blob/main/MODUL%201%20-%20Dasar-Dasar%20Python%20untuk%20Sains%20Data/Tugas%202.ipynb\" target=\"_parent\"><img src=\"https://colab.research.google.com/assets/colab-badge.svg\" alt=\"Open In Colab\"/></a>"
      ]
    },
    {
      "cell_type": "markdown",
      "source": [
        "### Soal 2: Membuat Fungsi dengan Syarat Spesifik\n",
        "**Soal**: Buatlah sebuah fungsi yang menerima dua input berupa list angka. Fungsi ini harus mengembalikan sebuah list baru yang berisi elemen dari dua list input yang memiliki indeks ganjil. List baru tersebut juga harus diurutkan secara menurun berdasarkan nilai elemen."
      ],
      "metadata": {
        "id": "ctSbv3nPhUhe"
      }
    },
    {
      "cell_type": "code",
      "execution_count": null,
      "metadata": {
        "id": "O1SC6YiCHY9k",
        "colab": {
          "base_uri": "https://localhost:8080/"
        },
        "outputId": "a0d1fa0b-1978-4552-e3a1-972c75d59576"
      },
      "outputs": [
        {
          "output_type": "stream",
          "name": "stdout",
          "text": [
            "[12, 10, 8, 6, 4, 2]\n"
          ]
        }
      ],
      "source": [
        "def gabungan(x, y):\n",
        "    list1 = []\n",
        "    list2 = []\n",
        "    for i in range(1, len(x)):\n",
        "        if i % 2 != 0:\n",
        "            list1.append(x[i])\n",
        "    for i in range(1, len(y)):\n",
        "        if i % 2 != 0:\n",
        "            list2.append(y[i])\n",
        "\n",
        "    list_gabungan = list1 + list2\n",
        "    list_gabungan.sort(reverse=True)\n",
        "\n",
        "    return list_gabungan\n",
        "\n",
        "\n",
        "x = gabungan([1, 2, 3, 4, 5, 6], [7, 8, 9, 10, 11, 12])\n",
        "print(x)\n"
      ]
    }
  ]
}