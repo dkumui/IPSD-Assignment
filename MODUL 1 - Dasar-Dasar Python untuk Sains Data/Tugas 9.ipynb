{
  "nbformat": 4,
  "nbformat_minor": 0,
  "metadata": {
    "colab": {
      "provenance": [],
      "authorship_tag": "ABX9TyPmQKiRrRsJjwf2+bT9o+WU",
      "include_colab_link": true
    },
    "kernelspec": {
      "name": "python3",
      "display_name": "Python 3"
    },
    "language_info": {
      "name": "python"
    }
  },
  "cells": [
    {
      "cell_type": "markdown",
      "metadata": {
        "id": "view-in-github",
        "colab_type": "text"
      },
      "source": [
        "<a href=\"https://colab.research.google.com/github/dkumui/IPSD-Assignment/blob/main/MODUL%201%20-%20Dasar-Dasar%20Python%20untuk%20Sains%20Data/Tugas%209.ipynb\" target=\"_parent\"><img src=\"https://colab.research.google.com/assets/colab-badge.svg\" alt=\"Open In Colab\"/></a>"
      ]
    },
    {
      "cell_type": "markdown",
      "source": [
        "### Soal 9: Konsep Class dan Object-Oriented Programming\n",
        "**Soal**: Buat class bernama `Buku` yang memiliki atribut `judul`, `penulis`, dan `tahun_terbit`. Buat method dalam class untuk menampilkan informasi buku, serta method untuk menghitung usia buku berdasarkan tahun saat ini. Buatlah 3 objek dari class `Buku` dan tampilkan informasi serta usia masing-masing buku."
      ],
      "metadata": {
        "id": "0lD_YGp9jnwA"
      }
    },
    {
      "cell_type": "code",
      "execution_count": null,
      "metadata": {
        "colab": {
          "base_uri": "https://localhost:8080/"
        },
        "id": "1sUYefukP8s_",
        "outputId": "b3127e50-d91e-4f1a-f27b-959d92aff31e"
      },
      "outputs": [
        {
          "output_type": "stream",
          "name": "stdout",
          "text": [
            "Judul       : Data Science for Dummies\n",
            "Penulis     : Lorraine Daston\n",
            "Tahun Terbit: 2015\n",
            "Usia buku   : 9 tahun\n",
            "----------------------------------------\n",
            "Judul       : Python Programming\n",
            "Penulis     : John Doe\n",
            "Tahun Terbit: 2017\n",
            "Usia buku   : 7 tahun\n",
            "----------------------------------------\n",
            "Judul       : Data Science for Dummies\n",
            "Penulis     : Lorraine Daston\n",
            "Tahun Terbit: 2015\n",
            "Usia buku   : 9 tahun\n",
            "----------------------------------------\n"
          ]
        }
      ],
      "source": [
        "from datetime import datetime\n",
        "\n",
        "\n",
        "class Buku:\n",
        "    def __init__(self, judul, penulis, tahun_terbit):\n",
        "        self.judul = judul\n",
        "        self.penulis = penulis\n",
        "        self.tahun_terbit = tahun_terbit\n",
        "\n",
        "    def tampilkan_informasi(self):\n",
        "        return f\"Judul       : {self.judul}\\nPenulis     : {self.penulis}\\nTahun Terbit: {self.tahun_terbit}\"\n",
        "\n",
        "    def hitung_usia(self):\n",
        "        tahun_sekarang = datetime.now().year\n",
        "        usia = tahun_sekarang - self.tahun_terbit\n",
        "        return usia\n",
        "\n",
        "\n",
        "buku1 = Buku(\"Data Science for Dummies\", \"Lorraine Daston\", 2015)\n",
        "buku2 = Buku(\"Python Programming\", \"John Doe\", 2017)\n",
        "buku3 = Buku(\"Data Science for Dummies\", \"Lorraine Daston\", 2015)\n",
        "\n",
        "for buku in [buku1, buku2, buku3]:\n",
        "    print(buku.tampilkan_informasi())\n",
        "    print(f\"Usia buku   : {buku.hitung_usia()} tahun\")\n",
        "    print(\"-\" * 40)\n"
      ]
    }
  ]
}