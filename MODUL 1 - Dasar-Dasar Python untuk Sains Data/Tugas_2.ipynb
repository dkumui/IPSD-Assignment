{
  "nbformat": 4,
  "nbformat_minor": 0,
  "metadata": {
    "colab": {
      "provenance": [],
      "authorship_tag": "ABX9TyPq7sICwWOQdq/GishSP4ha",
      "include_colab_link": true
    },
    "kernelspec": {
      "name": "python3",
      "display_name": "Python 3"
    },
    "language_info": {
      "name": "python"
    }
  },
  "cells": [
    {
      "cell_type": "markdown",
      "metadata": {
        "id": "view-in-github",
        "colab_type": "text"
      },
      "source": [
        "<a href=\"https://colab.research.google.com/github/dkumui/IPSD-Assignment/blob/main/MODUL%201%20-%20Dasar-Dasar%20Python%20untuk%20Sains%20Data/Tugas_2.ipynb\" target=\"_parent\"><img src=\"https://colab.research.google.com/assets/colab-badge.svg\" alt=\"Open In Colab\"/></a>"
      ]
    },
    {
      "cell_type": "code",
      "execution_count": 1,
      "metadata": {
        "id": "O1SC6YiCHY9k",
        "colab": {
          "base_uri": "https://localhost:8080/"
        },
        "outputId": "a0d1fa0b-1978-4552-e3a1-972c75d59576"
      },
      "outputs": [
        {
          "output_type": "stream",
          "name": "stdout",
          "text": [
            "[12, 10, 8, 6, 4, 2]\n"
          ]
        }
      ],
      "source": [
        "def gabungan(x, y):\n",
        "    list1 = []\n",
        "    list2 = []\n",
        "    for i in range(1, len(x)):\n",
        "        if i % 2 != 0:\n",
        "            list1.append(x[i])\n",
        "    for i in range(1, len(y)):\n",
        "        if i % 2 != 0:\n",
        "            list2.append(y[i])\n",
        "\n",
        "    list_gabungan = list1 + list2\n",
        "    list_gabungan.sort(reverse=True)\n",
        "\n",
        "    return list_gabungan\n",
        "\n",
        "\n",
        "x = gabungan([1, 2, 3, 4, 5, 6], [7, 8, 9, 10, 11, 12])\n",
        "print(x)\n"
      ]
    }
  ]
}